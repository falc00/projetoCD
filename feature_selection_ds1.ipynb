{
 "cells": [
  {
   "cell_type": "code",
<<<<<<< HEAD
   "execution_count": 1,
=======
   "execution_count": 13,
>>>>>>> f24cdb41a5c40878d061ba71ac0eca47c98fe0c1
   "metadata": {},
   "outputs": [],
   "source": [
    "from pandas import DataFrame, read_csv\n",
    "from matplotlib.pyplot import figure, title, savefig, show\n",
    "from seaborn import heatmap"
   ]
  },
  {
   "cell_type": "markdown",
   "metadata": {},
   "source": [
    "ISTO E APLICADO ANTES DO TRAIN/ TEST SPLIT -> porque o test tem de ter as mesmas features do train!"
   ]
  },
  {
   "cell_type": "code",
<<<<<<< HEAD
   "execution_count": 73,
=======
   "execution_count": 14,
>>>>>>> f24cdb41a5c40878d061ba71ac0eca47c98fe0c1
   "metadata": {},
   "outputs": [
    {
     "data": {
      "text/plain": [
<<<<<<< HEAD
       "(39025, 116)"
      ]
     },
     "execution_count": 73,
=======
       "(39025, 106)"
      ]
     },
     "execution_count": 14,
>>>>>>> f24cdb41a5c40878d061ba71ac0eca47c98fe0c1
     "metadata": {},
     "output_type": "execute_result"
    }
   ],
   "source": [
    "filename = 'data/nyc_collisions_scaled_zscore.csv'\n",
    "data = read_csv(filename, na_values='?')\n",
    "data.shape"
   ]
  },
  {
   "cell_type": "code",
<<<<<<< HEAD
   "execution_count": 74,
   "metadata": {},
   "outputs": [
    {
     "name": "stdout",
     "output_type": "stream",
     "text": [
      "dict_keys(['PERSON_SEX_F', 'PERSON_SEX_M', 'POSITION_IN_VEHICLE_Driver', 'PED_ROLE_Driver', 'PED_ROLE_Passenger'])\n"
=======
   "execution_count": 15,
   "metadata": {},
   "outputs": [
    {
     "ename": "TypeError",
     "evalue": "'type' object is not subscriptable",
     "output_type": "error",
     "traceback": [
      "\u001b[0;31m---------------------------------------------------------------------------\u001b[0m",
      "\u001b[0;31mTypeError\u001b[0m                                 Traceback (most recent call last)",
      "\u001b[0;32m/var/folders/fd/7vyffy191_l3j6fhyqbvsn0r0000gn/T/ipykernel_5333/4170981080.py\u001b[0m in \u001b[0;36m<module>\u001b[0;34m\u001b[0m\n\u001b[1;32m      1\u001b[0m \u001b[0mTHRESHOLD\u001b[0m \u001b[0;34m=\u001b[0m \u001b[0;36m0.9\u001b[0m\u001b[0;34m\u001b[0m\u001b[0;34m\u001b[0m\u001b[0m\n\u001b[1;32m      2\u001b[0m \u001b[0;34m\u001b[0m\u001b[0m\n\u001b[0;32m----> 3\u001b[0;31m \u001b[0;32mdef\u001b[0m \u001b[0mselect_redundant\u001b[0m\u001b[0;34m(\u001b[0m\u001b[0mcorr_mtx\u001b[0m\u001b[0;34m,\u001b[0m \u001b[0mthreshold\u001b[0m\u001b[0;34m:\u001b[0m \u001b[0mfloat\u001b[0m\u001b[0;34m)\u001b[0m \u001b[0;34m->\u001b[0m \u001b[0mtuple\u001b[0m\u001b[0;34m[\u001b[0m\u001b[0mdict\u001b[0m\u001b[0;34m,\u001b[0m \u001b[0mDataFrame\u001b[0m\u001b[0;34m]\u001b[0m\u001b[0;34m:\u001b[0m\u001b[0;34m\u001b[0m\u001b[0;34m\u001b[0m\u001b[0m\n\u001b[0m\u001b[1;32m      4\u001b[0m     \u001b[0;32mif\u001b[0m \u001b[0mcorr_mtx\u001b[0m\u001b[0;34m.\u001b[0m\u001b[0mempty\u001b[0m\u001b[0;34m:\u001b[0m\u001b[0;34m\u001b[0m\u001b[0;34m\u001b[0m\u001b[0m\n\u001b[1;32m      5\u001b[0m         \u001b[0;32mreturn\u001b[0m \u001b[0;34m{\u001b[0m\u001b[0;34m}\u001b[0m\u001b[0;34m\u001b[0m\u001b[0;34m\u001b[0m\u001b[0m\n",
      "\u001b[0;31mTypeError\u001b[0m: 'type' object is not subscriptable"
>>>>>>> f24cdb41a5c40878d061ba71ac0eca47c98fe0c1
     ]
    }
   ],
   "source": [
    "THRESHOLD = 0.9\n",
    "\n",
    "def select_redundant(corr_mtx, threshold: float) -> tuple[dict, DataFrame]:\n",
    "    if corr_mtx.empty:\n",
    "        return {}\n",
    "\n",
    "    corr_mtx = abs(corr_mtx)\n",
    "    vars_2drop = {}\n",
    "    for el in corr_mtx.columns:\n",
    "        el_corr = (corr_mtx[el]).loc[corr_mtx[el] >= threshold]\n",
    "        if len(el_corr) == 1:\n",
    "            corr_mtx.drop(labels=el, axis=1, inplace=True)\n",
    "            corr_mtx.drop(labels=el, axis=0, inplace=True)\n",
    "        else:\n",
    "            vars_2drop[el] = el_corr.index\n",
    "    return vars_2drop, corr_mtx\n",
    "\n",
    "drop, corr_mtx = select_redundant(data.corr(), THRESHOLD)\n",
    "print(drop.keys())"
   ]
  },
  {
   "cell_type": "code",
   "execution_count": 5,
   "metadata": {},
   "outputs": [
    {
     "data": {
      "image/png": "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",
      "text/plain": [
       "<Figure size 720x720 with 2 Axes>"
      ]
     },
     "metadata": {
      "needs_background": "light"
     },
     "output_type": "display_data"
    }
   ],
   "source": [
    "if corr_mtx.empty:\n",
    "    raise ValueError('Matrix is empty.')\n",
    "\n",
    "figure(figsize=[10, 10])\n",
    "heatmap(corr_mtx, xticklabels=corr_mtx.columns, yticklabels=corr_mtx.columns, annot=False, cmap='Blues')\n",
    "title('Filtered Correlation Analysis')\n",
    "savefig(f'lab6_images/filtered_correlation_analysis_d1_{THRESHOLD}.png')\n",
    "show()"
   ]
  },
  {
   "cell_type": "code",
   "execution_count": 75,
   "metadata": {},
   "outputs": [
    {
     "name": "stdout",
     "output_type": "stream",
     "text": [
      "dict_keys(['PERSON_SEX_F', 'PERSON_SEX_M', 'POSITION_IN_VEHICLE_Driver', 'PED_ROLE_Driver', 'PED_ROLE_Passenger'])\n",
      "Variables to drop ['PERSON_SEX_M', 'PED_ROLE_Driver', 'PED_ROLE_Passenger']\n"
     ]
    },
    {
     "data": {
      "text/html": [
       "<div>\n",
       "<style scoped>\n",
       "    .dataframe tbody tr th:only-of-type {\n",
       "        vertical-align: middle;\n",
       "    }\n",
       "\n",
       "    .dataframe tbody tr th {\n",
       "        vertical-align: top;\n",
       "    }\n",
       "\n",
       "    .dataframe thead th {\n",
       "        text-align: right;\n",
       "    }\n",
       "</style>\n",
       "<table border=\"1\" class=\"dataframe\">\n",
       "  <thead>\n",
       "    <tr style=\"text-align: right;\">\n",
       "      <th></th>\n",
       "      <th>PERSON_AGE</th>\n",
       "      <th>PERSON_INJURY</th>\n",
       "      <th>CRASH_TIME_0</th>\n",
       "      <th>CRASH_TIME_1</th>\n",
       "      <th>CRASH_TIME_2</th>\n",
       "      <th>CRASH_TIME_3</th>\n",
       "      <th>CRASH_TIME_4</th>\n",
       "      <th>CRASH_TIME_5</th>\n",
       "      <th>CRASH_TIME_6</th>\n",
       "      <th>CRASH_TIME_7</th>\n",
       "      <th>...</th>\n",
       "      <th>POSITION_IN_VEHICLE_Any person in the rear of a station wagon, pick-up truck, all passengers on a bus, etc</th>\n",
       "      <th>POSITION_IN_VEHICLE_Driver</th>\n",
       "      <th>POSITION_IN_VEHICLE_Front passenger, if two or more persons, including the driver, are in the front seat</th>\n",
       "      <th>POSITION_IN_VEHICLE_If one person is seated on another person&amp;apos;s lap</th>\n",
       "      <th>POSITION_IN_VEHICLE_Left rear passenger, or rear passenger on a bicycle, motorcycle, snowmobile</th>\n",
       "      <th>POSITION_IN_VEHICLE_Middle front seat, or passenger lying across a seat</th>\n",
       "      <th>POSITION_IN_VEHICLE_Middle rear seat, or passenger lying across a seat</th>\n",
       "      <th>POSITION_IN_VEHICLE_Riding/Hanging on Outside</th>\n",
       "      <th>POSITION_IN_VEHICLE_Right rear passenger or motorcycle sidecar passenger</th>\n",
       "      <th>POSITION_IN_VEHICLE_Unknown</th>\n",
       "    </tr>\n",
       "  </thead>\n",
       "  <tbody>\n",
       "    <tr>\n",
       "      <th>0</th>\n",
       "      <td>0.062619</td>\n",
       "      <td>Injured</td>\n",
       "      <td>True</td>\n",
       "      <td>False</td>\n",
       "      <td>False</td>\n",
       "      <td>False</td>\n",
       "      <td>False</td>\n",
       "      <td>False</td>\n",
       "      <td>False</td>\n",
       "      <td>False</td>\n",
       "      <td>...</td>\n",
       "      <td>False</td>\n",
       "      <td>True</td>\n",
       "      <td>False</td>\n",
       "      <td>False</td>\n",
       "      <td>False</td>\n",
       "      <td>False</td>\n",
       "      <td>False</td>\n",
       "      <td>False</td>\n",
       "      <td>False</td>\n",
       "      <td>False</td>\n",
       "    </tr>\n",
       "    <tr>\n",
       "      <th>1</th>\n",
       "      <td>-0.895290</td>\n",
       "      <td>Injured</td>\n",
       "      <td>True</td>\n",
       "      <td>False</td>\n",
       "      <td>False</td>\n",
       "      <td>False</td>\n",
       "      <td>False</td>\n",
       "      <td>False</td>\n",
       "      <td>False</td>\n",
       "      <td>False</td>\n",
       "      <td>...</td>\n",
       "      <td>False</td>\n",
       "      <td>True</td>\n",
       "      <td>False</td>\n",
       "      <td>False</td>\n",
       "      <td>False</td>\n",
       "      <td>False</td>\n",
       "      <td>False</td>\n",
       "      <td>False</td>\n",
       "      <td>False</td>\n",
       "      <td>False</td>\n",
       "    </tr>\n",
       "    <tr>\n",
       "      <th>2</th>\n",
       "      <td>2.042297</td>\n",
       "      <td>Injured</td>\n",
       "      <td>True</td>\n",
       "      <td>False</td>\n",
       "      <td>False</td>\n",
       "      <td>False</td>\n",
       "      <td>False</td>\n",
       "      <td>False</td>\n",
       "      <td>False</td>\n",
       "      <td>False</td>\n",
       "      <td>...</td>\n",
       "      <td>False</td>\n",
       "      <td>False</td>\n",
       "      <td>True</td>\n",
       "      <td>False</td>\n",
       "      <td>False</td>\n",
       "      <td>False</td>\n",
       "      <td>False</td>\n",
       "      <td>False</td>\n",
       "      <td>False</td>\n",
       "      <td>False</td>\n",
       "    </tr>\n",
       "    <tr>\n",
       "      <th>3</th>\n",
       "      <td>-0.895290</td>\n",
       "      <td>Injured</td>\n",
       "      <td>True</td>\n",
       "      <td>False</td>\n",
       "      <td>False</td>\n",
       "      <td>False</td>\n",
       "      <td>False</td>\n",
       "      <td>False</td>\n",
       "      <td>False</td>\n",
       "      <td>False</td>\n",
       "      <td>...</td>\n",
       "      <td>False</td>\n",
       "      <td>True</td>\n",
       "      <td>False</td>\n",
       "      <td>False</td>\n",
       "      <td>False</td>\n",
       "      <td>False</td>\n",
       "      <td>False</td>\n",
       "      <td>False</td>\n",
       "      <td>False</td>\n",
       "      <td>False</td>\n",
       "    </tr>\n",
       "    <tr>\n",
       "      <th>4</th>\n",
       "      <td>-0.639848</td>\n",
       "      <td>Injured</td>\n",
       "      <td>True</td>\n",
       "      <td>False</td>\n",
       "      <td>False</td>\n",
       "      <td>False</td>\n",
       "      <td>False</td>\n",
       "      <td>False</td>\n",
       "      <td>False</td>\n",
       "      <td>False</td>\n",
       "      <td>...</td>\n",
       "      <td>False</td>\n",
       "      <td>True</td>\n",
       "      <td>False</td>\n",
       "      <td>False</td>\n",
       "      <td>False</td>\n",
       "      <td>False</td>\n",
       "      <td>False</td>\n",
       "      <td>False</td>\n",
       "      <td>False</td>\n",
       "      <td>False</td>\n",
       "    </tr>\n",
       "    <tr>\n",
       "      <th>...</th>\n",
       "      <td>...</td>\n",
       "      <td>...</td>\n",
       "      <td>...</td>\n",
       "      <td>...</td>\n",
       "      <td>...</td>\n",
       "      <td>...</td>\n",
       "      <td>...</td>\n",
       "      <td>...</td>\n",
       "      <td>...</td>\n",
       "      <td>...</td>\n",
       "      <td>...</td>\n",
       "      <td>...</td>\n",
       "      <td>...</td>\n",
       "      <td>...</td>\n",
       "      <td>...</td>\n",
       "      <td>...</td>\n",
       "      <td>...</td>\n",
       "      <td>...</td>\n",
       "      <td>...</td>\n",
       "      <td>...</td>\n",
       "      <td>...</td>\n",
       "    </tr>\n",
       "    <tr>\n",
       "      <th>39020</th>\n",
       "      <td>-0.512127</td>\n",
       "      <td>Injured</td>\n",
       "      <td>False</td>\n",
       "      <td>False</td>\n",
       "      <td>False</td>\n",
       "      <td>False</td>\n",
       "      <td>False</td>\n",
       "      <td>False</td>\n",
       "      <td>False</td>\n",
       "      <td>False</td>\n",
       "      <td>...</td>\n",
       "      <td>False</td>\n",
       "      <td>True</td>\n",
       "      <td>False</td>\n",
       "      <td>False</td>\n",
       "      <td>False</td>\n",
       "      <td>False</td>\n",
       "      <td>False</td>\n",
       "      <td>False</td>\n",
       "      <td>False</td>\n",
       "      <td>False</td>\n",
       "    </tr>\n",
       "    <tr>\n",
       "      <th>39021</th>\n",
       "      <td>-0.703709</td>\n",
       "      <td>Injured</td>\n",
       "      <td>False</td>\n",
       "      <td>False</td>\n",
       "      <td>False</td>\n",
       "      <td>False</td>\n",
       "      <td>False</td>\n",
       "      <td>False</td>\n",
       "      <td>False</td>\n",
       "      <td>False</td>\n",
       "      <td>...</td>\n",
       "      <td>False</td>\n",
       "      <td>False</td>\n",
       "      <td>False</td>\n",
       "      <td>False</td>\n",
       "      <td>False</td>\n",
       "      <td>False</td>\n",
       "      <td>True</td>\n",
       "      <td>False</td>\n",
       "      <td>False</td>\n",
       "      <td>False</td>\n",
       "    </tr>\n",
       "    <tr>\n",
       "      <th>39022</th>\n",
       "      <td>-0.384406</td>\n",
       "      <td>Injured</td>\n",
       "      <td>False</td>\n",
       "      <td>False</td>\n",
       "      <td>False</td>\n",
       "      <td>False</td>\n",
       "      <td>False</td>\n",
       "      <td>False</td>\n",
       "      <td>False</td>\n",
       "      <td>False</td>\n",
       "      <td>...</td>\n",
       "      <td>False</td>\n",
       "      <td>True</td>\n",
       "      <td>False</td>\n",
       "      <td>False</td>\n",
       "      <td>False</td>\n",
       "      <td>False</td>\n",
       "      <td>False</td>\n",
       "      <td>False</td>\n",
       "      <td>False</td>\n",
       "      <td>False</td>\n",
       "    </tr>\n",
       "    <tr>\n",
       "      <th>39023</th>\n",
       "      <td>1.659134</td>\n",
       "      <td>Injured</td>\n",
       "      <td>False</td>\n",
       "      <td>False</td>\n",
       "      <td>False</td>\n",
       "      <td>False</td>\n",
       "      <td>False</td>\n",
       "      <td>False</td>\n",
       "      <td>False</td>\n",
       "      <td>False</td>\n",
       "      <td>...</td>\n",
       "      <td>False</td>\n",
       "      <td>True</td>\n",
       "      <td>False</td>\n",
       "      <td>False</td>\n",
       "      <td>False</td>\n",
       "      <td>False</td>\n",
       "      <td>False</td>\n",
       "      <td>False</td>\n",
       "      <td>False</td>\n",
       "      <td>False</td>\n",
       "    </tr>\n",
       "    <tr>\n",
       "      <th>39024</th>\n",
       "      <td>-1.150733</td>\n",
       "      <td>Injured</td>\n",
       "      <td>False</td>\n",
       "      <td>False</td>\n",
       "      <td>False</td>\n",
       "      <td>False</td>\n",
       "      <td>False</td>\n",
       "      <td>False</td>\n",
       "      <td>False</td>\n",
       "      <td>False</td>\n",
       "      <td>...</td>\n",
       "      <td>False</td>\n",
       "      <td>True</td>\n",
       "      <td>False</td>\n",
       "      <td>False</td>\n",
       "      <td>False</td>\n",
       "      <td>False</td>\n",
       "      <td>False</td>\n",
       "      <td>False</td>\n",
       "      <td>False</td>\n",
       "      <td>False</td>\n",
       "    </tr>\n",
       "  </tbody>\n",
       "</table>\n",
       "<p>39025 rows × 113 columns</p>\n",
       "</div>"
      ],
      "text/plain": [
       "       PERSON_AGE PERSON_INJURY  CRASH_TIME_0  CRASH_TIME_1  CRASH_TIME_2  \\\n",
       "0        0.062619       Injured          True         False         False   \n",
       "1       -0.895290       Injured          True         False         False   \n",
       "2        2.042297       Injured          True         False         False   \n",
       "3       -0.895290       Injured          True         False         False   \n",
       "4       -0.639848       Injured          True         False         False   \n",
       "...           ...           ...           ...           ...           ...   \n",
       "39020   -0.512127       Injured         False         False         False   \n",
       "39021   -0.703709       Injured         False         False         False   \n",
       "39022   -0.384406       Injured         False         False         False   \n",
       "39023    1.659134       Injured         False         False         False   \n",
       "39024   -1.150733       Injured         False         False         False   \n",
       "\n",
       "       CRASH_TIME_3  CRASH_TIME_4  CRASH_TIME_5  CRASH_TIME_6  CRASH_TIME_7  \\\n",
       "0             False         False         False         False         False   \n",
       "1             False         False         False         False         False   \n",
       "2             False         False         False         False         False   \n",
       "3             False         False         False         False         False   \n",
       "4             False         False         False         False         False   \n",
       "...             ...           ...           ...           ...           ...   \n",
       "39020         False         False         False         False         False   \n",
       "39021         False         False         False         False         False   \n",
       "39022         False         False         False         False         False   \n",
       "39023         False         False         False         False         False   \n",
       "39024         False         False         False         False         False   \n",
       "\n",
       "       ...  \\\n",
       "0      ...   \n",
       "1      ...   \n",
       "2      ...   \n",
       "3      ...   \n",
       "4      ...   \n",
       "...    ...   \n",
       "39020  ...   \n",
       "39021  ...   \n",
       "39022  ...   \n",
       "39023  ...   \n",
       "39024  ...   \n",
       "\n",
       "       POSITION_IN_VEHICLE_Any person in the rear of a station wagon, pick-up truck, all passengers on a bus, etc  \\\n",
       "0                                                  False                                                            \n",
       "1                                                  False                                                            \n",
       "2                                                  False                                                            \n",
       "3                                                  False                                                            \n",
       "4                                                  False                                                            \n",
       "...                                                  ...                                                            \n",
       "39020                                              False                                                            \n",
       "39021                                              False                                                            \n",
       "39022                                              False                                                            \n",
       "39023                                              False                                                            \n",
       "39024                                              False                                                            \n",
       "\n",
       "       POSITION_IN_VEHICLE_Driver  \\\n",
       "0                            True   \n",
       "1                            True   \n",
       "2                           False   \n",
       "3                            True   \n",
       "4                            True   \n",
       "...                           ...   \n",
       "39020                        True   \n",
       "39021                       False   \n",
       "39022                        True   \n",
       "39023                        True   \n",
       "39024                        True   \n",
       "\n",
       "       POSITION_IN_VEHICLE_Front passenger, if two or more persons, including the driver, are in the front seat  \\\n",
       "0                                                  False                                                          \n",
       "1                                                  False                                                          \n",
       "2                                                   True                                                          \n",
       "3                                                  False                                                          \n",
       "4                                                  False                                                          \n",
       "...                                                  ...                                                          \n",
       "39020                                              False                                                          \n",
       "39021                                              False                                                          \n",
       "39022                                              False                                                          \n",
       "39023                                              False                                                          \n",
       "39024                                              False                                                          \n",
       "\n",
       "       POSITION_IN_VEHICLE_If one person is seated on another person&apos;s lap  \\\n",
       "0                                                  False                          \n",
       "1                                                  False                          \n",
       "2                                                  False                          \n",
       "3                                                  False                          \n",
       "4                                                  False                          \n",
       "...                                                  ...                          \n",
       "39020                                              False                          \n",
       "39021                                              False                          \n",
       "39022                                              False                          \n",
       "39023                                              False                          \n",
       "39024                                              False                          \n",
       "\n",
       "       POSITION_IN_VEHICLE_Left rear passenger, or rear passenger on a bicycle, motorcycle, snowmobile  \\\n",
       "0                                                  False                                                 \n",
       "1                                                  False                                                 \n",
       "2                                                  False                                                 \n",
       "3                                                  False                                                 \n",
       "4                                                  False                                                 \n",
       "...                                                  ...                                                 \n",
       "39020                                              False                                                 \n",
       "39021                                              False                                                 \n",
       "39022                                              False                                                 \n",
       "39023                                              False                                                 \n",
       "39024                                              False                                                 \n",
       "\n",
       "       POSITION_IN_VEHICLE_Middle front seat, or passenger lying across a seat  \\\n",
       "0                                                  False                         \n",
       "1                                                  False                         \n",
       "2                                                  False                         \n",
       "3                                                  False                         \n",
       "4                                                  False                         \n",
       "...                                                  ...                         \n",
       "39020                                              False                         \n",
       "39021                                              False                         \n",
       "39022                                              False                         \n",
       "39023                                              False                         \n",
       "39024                                              False                         \n",
       "\n",
       "       POSITION_IN_VEHICLE_Middle rear seat, or passenger lying across a seat  \\\n",
       "0                                                  False                        \n",
       "1                                                  False                        \n",
       "2                                                  False                        \n",
       "3                                                  False                        \n",
       "4                                                  False                        \n",
       "...                                                  ...                        \n",
       "39020                                              False                        \n",
       "39021                                               True                        \n",
       "39022                                              False                        \n",
       "39023                                              False                        \n",
       "39024                                              False                        \n",
       "\n",
       "       POSITION_IN_VEHICLE_Riding/Hanging on Outside  \\\n",
       "0                                              False   \n",
       "1                                              False   \n",
       "2                                              False   \n",
       "3                                              False   \n",
       "4                                              False   \n",
       "...                                              ...   \n",
       "39020                                          False   \n",
       "39021                                          False   \n",
       "39022                                          False   \n",
       "39023                                          False   \n",
       "39024                                          False   \n",
       "\n",
       "       POSITION_IN_VEHICLE_Right rear passenger or motorcycle sidecar passenger  \\\n",
       "0                                                  False                          \n",
       "1                                                  False                          \n",
       "2                                                  False                          \n",
       "3                                                  False                          \n",
       "4                                                  False                          \n",
       "...                                                  ...                          \n",
       "39020                                              False                          \n",
       "39021                                              False                          \n",
       "39022                                              False                          \n",
       "39023                                              False                          \n",
       "39024                                              False                          \n",
       "\n",
       "       POSITION_IN_VEHICLE_Unknown  \n",
       "0                            False  \n",
       "1                            False  \n",
       "2                            False  \n",
       "3                            False  \n",
       "4                            False  \n",
       "...                            ...  \n",
       "39020                        False  \n",
       "39021                        False  \n",
       "39022                        False  \n",
       "39023                        False  \n",
       "39024                        False  \n",
       "\n",
       "[39025 rows x 113 columns]"
      ]
     },
     "execution_count": 75,
     "metadata": {},
     "output_type": "execute_result"
    }
   ],
   "source": [
    "def drop_redundant(data: DataFrame, vars_2drop: dict) -> DataFrame:\n",
    "    sel_2drop = []\n",
    "    print(vars_2drop.keys())\n",
    "    for key in vars_2drop.keys():\n",
    "        if key not in sel_2drop:\n",
    "            for r in vars_2drop[key]:\n",
    "                if r != key and r not in sel_2drop:\n",
    "                    sel_2drop.append(r)\n",
    "    print('Variables to drop', sel_2drop)\n",
    "    df = data.copy()\n",
    "    for var in sel_2drop:\n",
    "        df.drop(labels=var, axis=1, inplace=True)\n",
    "    return df\n",
    "df = drop_redundant(data, drop)\n",
    "df"
   ]
  },
  {
   "cell_type": "code",
   "execution_count": 81,
   "metadata": {},
   "outputs": [
    {
     "name": "stdout",
     "output_type": "stream",
     "text": [
      "1 ['PERSON_AGE']\n",
      "['PERSON_AGE']\n"
     ]
    },
    {
     "name": "stderr",
     "output_type": "stream",
     "text": [
      "/Users/goncalofalcao/Desktop/IST/CD/ProjetoCD/dogit/projetoCD/libs/ds_charts.py:57: UserWarning: FixedFormatter should only be used together with FixedLocator\n",
      "  ax.set_xticklabels(xvalues, fontsize='small', ha='center')\n"
     ]
    },
    {
     "data": {
      "image/png": "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",
      "text/plain": [
       "<Figure size 1500x600 with 1 Axes>"
      ]
     },
     "metadata": {
      "needs_background": "dark"
     },
     "output_type": "display_data"
    }
   ],
   "source": [
    "\n",
    "from matplotlib.pyplot import figure, savefig, show\n",
    "from libs.ds_charts import bar_chart, get_variable_types\n",
    "def select_low_variance(data: DataFrame, threshold: float) -> list:\n",
    "    lst_variables = []\n",
    "    lst_variances = []\n",
    "    for el in data.columns:\n",
    "        value = data[el].var()\n",
    "        if value >= threshold:\n",
    "            lst_variables.append(el)\n",
    "            lst_variances.append(value)\n",
    "\n",
    "    print(len(lst_variables), lst_variables)\n",
    "    figure(figsize=[10, 4])\n",
    "    bar_chart(lst_variables, lst_variances, title='Variance analysis', xlabel='variables', ylabel='variance')\n",
    "    savefig('lab6_images/filtered_variance_analysis_ds1.png')\n",
    "    return lst_variables\n",
    "\n",
    "numeric = get_variable_types(data)['Numeric']\n",
    "vars_2drop = select_low_variance(data[numeric], 0.1)\n",
    "print(vars_2drop)"
   ]
  },
  {
   "cell_type": "markdown",
   "metadata": {},
   "source": [
    "### Train Test Split with feature selection"
   ]
  },
  {
   "cell_type": "code",
<<<<<<< HEAD
   "execution_count": 76,
=======
   "execution_count": null,
>>>>>>> f24cdb41a5c40878d061ba71ac0eca47c98fe0c1
   "metadata": {},
   "outputs": [],
   "source": [
    "import numpy as np\n",
    "from pandas import read_csv, concat, unique, DataFrame\n",
    "import matplotlib.pyplot as plt\n",
    "from sklearn.model_selection import train_test_split\n",
    "\n",
    "target = 'PERSON_INJURY'\n",
<<<<<<< HEAD
    "positive = 'Killed'\n",
    "negative = 'Injured'\n",
=======
    "positive = 'Injured'\n",
    "negative = 'Killed'\n",
>>>>>>> f24cdb41a5c40878d061ba71ac0eca47c98fe0c1
    "values = {'Original': [len(df[df[target] == positive]), len(df[df[target] == negative])]}\n",
    "\n",
    "y: np.ndarray = df.pop(target).values\n",
    "X: np.ndarray = df.values\n",
    "labels: np.ndarray = unique(y)\n",
    "labels.sort()\n",
    "\n",
    "trnX, tstX, trnY, tstY = train_test_split(X, y, train_size=0.7, stratify=y)\n",
    "\n",
    "train_new = concat([DataFrame(trnX, columns=df.columns), DataFrame(trnY,columns=[target])], axis=1)\n",
    "\n",
    "test_new = concat([DataFrame(tstX, columns=df.columns), DataFrame(tstY,columns=[target])], axis=1)\n"
   ]
  },
  {
   "cell_type": "markdown",
   "metadata": {},
   "source": [
    "### Naive Bayes Impact\n"
   ]
  },
  {
   "cell_type": "code",
<<<<<<< HEAD
   "execution_count": 77,
=======
   "execution_count": null,
>>>>>>> f24cdb41a5c40878d061ba71ac0eca47c98fe0c1
   "metadata": {},
   "outputs": [
    {
     "name": "stdout",
     "output_type": "stream",
     "text": [
      "0.4327485380116959\n"
     ]
    }
   ],
   "source": [
    "from sklearn.naive_bayes import GaussianNB, MultinomialNB, BernoulliNB, CategoricalNB\n",
    "import numpy as np\n",
    "from pandas import DataFrame, read_csv, unique\n",
    "from sklearn.metrics import accuracy_score, f1_score\n",
    "\n",
    "target = 'PERSON_INJURY'\n",
    "trnY_new: np.ndarray = train_new.pop(target).values\n",
    "trnX_new: np.ndarray = train_new.values\n",
    "labels = unique(trnY_new)\n",
    "labels.sort()\n",
    "\n",
    "tstY_new: np.ndarray = test_new.pop(target).values\n",
    "tstX_new: np.ndarray = test_new.values\n",
    "\n",
    "clf = BernoulliNB()\n",
    "clf.fit(trnX_new, trnY_new)\n",
    "prd_trn = clf.predict(trnX_new)\n",
    "prd_tst = clf.predict(tstX_new)\n",
    "print(f1_score(tstY_new, prd_tst, pos_label='Killed'))\n",
    "with_feature_selection = f1_score(tstY_new, prd_tst, pos_label='Killed')\n"
   ]
  },
  {
   "cell_type": "code",
<<<<<<< HEAD
   "execution_count": 78,
=======
   "execution_count": null,
>>>>>>> f24cdb41a5c40878d061ba71ac0eca47c98fe0c1
   "metadata": {},
   "outputs": [
    {
     "name": "stdout",
     "output_type": "stream",
     "text": [
      "0.4431137724550898\n"
     ]
    }
   ],
   "source": [
    "train_old = read_csv(f'data/nyc_collisions_scaled_zscore_train.csv')\n",
    "test_old = read_csv(f'data/nyc_collisions_scaled_zscore_test.csv')\n",
    "#PREPARE TRAIN AND TEST SZCORE\n",
    "target = 'PERSON_INJURY'\n",
    "trnY_old: np.ndarray = train_old.pop(target).values\n",
    "trnX_old: np.ndarray = train_old.values\n",
    "labels = unique(trnY_old)\n",
    "labels.sort()\n",
    "\n",
    "tstY_old: np.ndarray = test_old.pop(target).values\n",
    "tstX_old: np.ndarray = test_old.values\n",
    "\n",
    "clf = BernoulliNB()\n",
    "clf.fit(trnX_old, trnY_old)\n",
    "prd_trn = clf.predict(trnX_old)\n",
    "prd_tst = clf.predict(tstX_old)\n",
    "print(f1_score(tstY_old, prd_tst, pos_label='Killed'))\n",
    "without_feature_selection = f1_score(tstY_old, prd_tst, pos_label='Killed')"
   ]
  },
  {
   "cell_type": "code",
<<<<<<< HEAD
   "execution_count": 80,
=======
   "execution_count": null,
>>>>>>> f24cdb41a5c40878d061ba71ac0eca47c98fe0c1
   "metadata": {},
   "outputs": [
    {
     "name": "stderr",
     "output_type": "stream",
     "text": [
      "/Users/goncalofalcao/Desktop/IST/CD/ProjetoCD/dogit/projetoCD/libs/ds_charts.py:57: UserWarning: FixedFormatter should only be used together with FixedLocator\n",
      "  ax.set_xticklabels(xvalues, fontsize='small', ha='center')\n"
     ]
    },
    {
     "data": {
      "image/png": "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",
      "text/plain": [
       "<Figure size 600x450 with 1 Axes>"
      ]
     },
     "metadata": {
      "needs_background": "dark"
     },
     "output_type": "display_data"
    }
   ],
   "source": [
    "bar_chart(xvalues=['Before','After'],yvalues=[without_feature_selection,with_feature_selection],title=\"Feature selection NB\")\n",
    "savefig('lab6_images/nb_before_after_ds1.png')\n",
    "show()\n"
   ]
  },
  {
   "cell_type": "markdown",
   "metadata": {},
   "source": [
    "### KNN Impact"
   ]
  },
  {
   "cell_type": "code",
<<<<<<< HEAD
   "execution_count": 72,
=======
   "execution_count": null,
>>>>>>> f24cdb41a5c40878d061ba71ac0eca47c98fe0c1
   "metadata": {},
   "outputs": [
    {
     "name": "stderr",
     "output_type": "stream",
     "text": [
      "/Users/goncalofalcao/Desktop/IST/CD/ProjetoCD/dogit/projetoCD/libs/ds_charts.py:57: UserWarning: FixedFormatter should only be used together with FixedLocator\n",
      "  ax.set_xticklabels(xvalues, fontsize='small', ha='center')\n"
     ]
    },
    {
     "data": {
      "image/png": "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",
      "text/plain": [
       "<Figure size 600x450 with 1 Axes>"
      ]
     },
     "metadata": {
      "needs_background": "dark"
     },
     "output_type": "display_data"
    }
   ],
   "source": [
    "from sklearn.neighbors import KNeighborsClassifier\n",
    "#BEFORE\n",
    "clf = knn = KNeighborsClassifier(n_neighbors=1, metric='manhattan')\n",
    "clf.fit(trnX_old, trnY_old)\n",
    "prd_trn = clf.predict(trnX_old)\n",
    "prd_tst = clf.predict(tstX_old)\n",
    "knn_old = f1_score(tstY_old, prd_tst, pos_label='Killed')\n",
    "\n",
    "#AFTER\n",
    "clf = knn = KNeighborsClassifier(n_neighbors=1, metric='manhattan')\n",
    "clf.fit(trnX_new, trnY_new)\n",
    "prd_trn = clf.predict(trnX_new)\n",
    "prd_tst = clf.predict(tstX_new)\n",
    "knn_new = f1_score(tstY_new, prd_tst, pos_label='Killed')\n",
    "\n",
    "bar_chart(xvalues=['Before','After'],yvalues=[knn_old,knn_new],title=\"Feature selection KNN\")\n",
    "savefig('lab6_images/knn_before_after_ds1.png')\n",
    "show()"
   ]
  },
  {
   "cell_type": "markdown",
   "metadata": {},
   "source": [
    "### Random Forests Impact"
   ]
  },
  {
   "cell_type": "code",
<<<<<<< HEAD
   "execution_count": 71,
=======
   "execution_count": null,
>>>>>>> f24cdb41a5c40878d061ba71ac0eca47c98fe0c1
   "metadata": {},
   "outputs": [
    {
     "name": "stderr",
     "output_type": "stream",
     "text": [
      "/Users/goncalofalcao/Desktop/IST/CD/ProjetoCD/dogit/projetoCD/libs/ds_charts.py:57: UserWarning: FixedFormatter should only be used together with FixedLocator\n",
      "  ax.set_xticklabels(xvalues, fontsize='small', ha='center')\n"
     ]
    },
    {
     "data": {
      "image/png": "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",
      "text/plain": [
       "<Figure size 600x450 with 1 Axes>"
      ]
     },
     "metadata": {
      "needs_background": "dark"
     },
     "output_type": "display_data"
    }
   ],
   "source": [
    "from sklearn.ensemble import RandomForestClassifier\n",
    "\n",
    "#BEFORE\n",
    "clf = RandomForestClassifier(n_estimators=125,max_depth=5,max_features=0.9)\n",
    "clf.fit(trnX_old, trnY_old)\n",
    "prd_trn = clf.predict(trnX_old)\n",
    "prd_tst = clf.predict(tstX_old)\n",
    "rf_old = f1_score(tstY_old, prd_tst, pos_label='Killed')\n",
    "\n",
    "#AFTER\n",
    "clf = RandomForestClassifier(n_estimators=125,max_depth=5,max_features=0.9)\n",
    "clf.fit(trnX_new, trnY_new)\n",
    "prd_trn = clf.predict(trnX_new)\n",
    "prd_tst = clf.predict(tstX_new)\n",
    "rf_new = f1_score(tstY_new, prd_tst, pos_label='Killed')\n",
    "\n",
    "bar_chart(xvalues=['Before','After'],yvalues=[rf_old,rf_new],title=\"Feature selection RF\")\n",
    "savefig('lab6_images/rf_before_after_ds1.png')\n",
    "show()\n"
   ]
  }
 ],
 "metadata": {
  "interpreter": {
   "hash": "745d310d6c0ae55e49257fa2b34a349fe5a18b8d8dfaac89e4989c686accf5f0"
  },
  "kernelspec": {
   "display_name": "Python 3.10.0 64-bit ('envComputerScience': conda)",
   "language": "python",
   "name": "python3"
  },
  "language_info": {
   "codemirror_mode": {
    "name": "ipython",
    "version": 3
   },
   "file_extension": ".py",
   "mimetype": "text/x-python",
   "name": "python",
   "nbconvert_exporter": "python",
   "pygments_lexer": "ipython3",
<<<<<<< HEAD
   "version": "3.10.0"
=======
   "version": "3.8.12"
>>>>>>> f24cdb41a5c40878d061ba71ac0eca47c98fe0c1
  },
  "orig_nbformat": 4
 },
 "nbformat": 4,
 "nbformat_minor": 2
}
