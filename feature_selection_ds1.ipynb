{
 "cells": [
  {
   "cell_type": "code",
   "execution_count": null,
   "metadata": {},
   "outputs": [],
   "source": [
    "from pandas import DataFrame, read_csv\n",
    "from matplotlib.pyplot import figure, title, savefig, show\n",
    "from seaborn import heatmap"
   ]
  },
  {
   "cell_type": "markdown",
   "metadata": {},
   "source": [
    "ISTO E APLICADO ANTES DO TRAIN/ TEST SPLIT -> porque o test tem de ter as mesmas features do train!"
   ]
  },
  {
   "cell_type": "code",
   "execution_count": null,
   "metadata": {},
   "outputs": [],
   "source": [
    "filename = 'data/nyc_collisions_scaled_zscore.csv'\n",
    "data = read_csv(filename, na_values='?')\n",
    "data.shape"
   ]
  },
  {
   "cell_type": "code",
   "execution_count": null,
   "metadata": {},
   "outputs": [],
   "source": [
    "THRESHOLD = 0.9\n",
    "\n",
    "def select_redundant(corr_mtx, threshold: float) -> tuple[dict, DataFrame]:\n",
    "    if corr_mtx.empty:\n",
    "        return {}\n",
    "\n",
    "    corr_mtx = abs(corr_mtx)\n",
    "    vars_2drop = {}\n",
    "    for el in corr_mtx.columns:\n",
    "        el_corr = (corr_mtx[el]).loc[corr_mtx[el] >= threshold]\n",
    "        if len(el_corr) == 1:\n",
    "            corr_mtx.drop(labels=el, axis=1, inplace=True)\n",
    "            corr_mtx.drop(labels=el, axis=0, inplace=True)\n",
    "        else:\n",
    "            vars_2drop[el] = el_corr.index\n",
    "    return vars_2drop, corr_mtx\n",
    "\n",
    "drop, corr_mtx = select_redundant(data.corr(), THRESHOLD)\n",
    "print(drop.keys())"
   ]
  },
  {
   "cell_type": "code",
   "execution_count": null,
   "metadata": {},
   "outputs": [],
   "source": [
    "if corr_mtx.empty:\n",
    "    raise ValueError('Matrix is empty.')\n",
    "\n",
    "figure(figsize=[10, 10])\n",
    "heatmap(corr_mtx, xticklabels=corr_mtx.columns, yticklabels=corr_mtx.columns, annot=False, cmap='Blues')\n",
    "title('Filtered Correlation Analysis')\n",
    "savefig(f'lab6_imagens/filtered_correlation_analysis_{THRESHOLD}.png')\n",
    "show()"
   ]
  },
  {
   "cell_type": "code",
   "execution_count": null,
   "metadata": {},
   "outputs": [],
   "source": [
    "def drop_redundant(data: DataFrame, vars_2drop: dict) -> DataFrame:\n",
    "    sel_2drop = []\n",
    "    print(vars_2drop.keys())\n",
    "    for key in vars_2drop.keys():\n",
    "        if key not in sel_2drop:\n",
    "            for r in vars_2drop[key]:\n",
    "                if r != key and r not in sel_2drop:\n",
    "                    sel_2drop.append(r)\n",
    "    print('Variables to drop', sel_2drop)\n",
    "    df = data.copy()\n",
    "    for var in sel_2drop:\n",
    "        df.drop(labels=var, axis=1, inplace=True)\n",
    "    return df\n",
    "df = drop_redundant(data, drop)\n",
    "df"
   ]
  },
  {
   "cell_type": "code",
   "execution_count": null,
   "metadata": {},
   "outputs": [],
   "source": [
    "def select_low_variance(data: DataFrame, threshold: float) -> list:\n",
    "    lst_variables = []\n",
    "    lst_variances = []\n",
    "    for el in data.columns:\n",
    "        value = data[el].var()\n",
    "        if value >= threshold:\n",
    "            lst_variables.append(el)\n",
    "            lst_variances.append(value)\n",
    "\n",
    "    print(len(lst_variables), lst_variables)\n",
    "    figure(figsize=[10, 4])\n",
    "    bar_chart(lst_variables, lst_variances, title='Variance analysis', xlabel='variables', ylabel='variance')\n",
    "    savefig('lab6_imagens/filtered_variance_analysis_ds1.png')\n",
    "    return lst_variables\n",
    "\n",
    "numeric = get_variable_types(data)['Numeric']\n",
    "vars_2drop = select_low_variance(data[numeric], 0.1)\n",
    "print(vars_2drop)"
   ]
  }
 ],
 "metadata": {
  "language_info": {
   "name": "python"
  },
  "orig_nbformat": 4
 },
 "nbformat": 4,
 "nbformat_minor": 2
}
