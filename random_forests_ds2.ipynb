{
 "cells": [
  {
   "cell_type": "code",
   "execution_count": 5,
   "metadata": {},
   "outputs": [],
   "source": [
    "from numpy import ndarray\n",
    "from pandas import DataFrame, read_csv, unique\n",
    "from matplotlib.pyplot import figure, subplots, savefig, show\n",
    "from sklearn.ensemble import RandomForestClassifier\n",
    "from libs.ds_charts import plot_evaluation_results, multiple_line_chart, horizontal_bar_chart, HEIGHT\n",
    "from sklearn.metrics import accuracy_score"
   ]
  },
  {
   "cell_type": "code",
   "execution_count": 6,
   "metadata": {},
   "outputs": [],
   "source": [
    "\n",
    "file_tag = 'air_quality_scaled_zscore'\n",
    "filename = 'data/air_quality_scaled_zscore'\n",
    "target = 'ALARM'\n",
    "\n",
    "\n",
    "train: DataFrame = read_csv(f'{filename}_train_smote.csv')\n",
    "trnY: ndarray = train.pop(target).values\n",
    "trnX: ndarray = train.values\n",
    "labels = unique(trnY)\n",
    "labels.sort()\n",
    "\n",
    "test: DataFrame = read_csv(f'{filename}_test.csv')\n",
    "tstY: ndarray = test.pop(target).values\n",
    "tstX: ndarray = test.values\n",
    "\n",
    "n_estimators = [5, 10, 25, 50, 75, 100, 150, 200, 250, 300]\n",
    "max_depths = [5, 10, 25]\n",
    "max_features = [.1, .3, .5, .7, .9, 1]\n",
    "best = ('', 0, 0)\n",
    "last_best = 0\n",
    "best_model = None\n",
    "\n",
    "cols = len(max_depths)\n",
    "figure()\n",
    "fig, axs = subplots(1, cols, figsize=(cols*HEIGHT, HEIGHT), squeeze=False)\n",
    "for k in range(len(max_depths)):\n",
    "    d = max_depths[k]\n",
    "    values = {}\n",
    "    for f in max_features:\n",
    "        yvalues = []\n",
    "        for n in n_estimators:\n",
    "            rf = RandomForestClassifier(n_estimators=n, max_depth=d, max_features=f)\n",
    "            rf.fit(trnX, trnY)\n",
    "            prdY = rf.predict(tstX)\n",
    "            yvalues.append(accuracy_score(tstY, prdY))\n",
    "            if yvalues[-1] > last_best:\n",
    "                best = (d, f, n)\n",
    "                last_best = yvalues[-1]\n",
    "                best_model = rf\n",
    "\n",
    "        values[f] = yvalues\n",
    "    multiple_line_chart(n_estimators, values, ax=axs[0, k], title=f'Random Forests with max_depth={d}',\n",
    "                           xlabel='nr estimators', ylabel='accuracy', percentage=True)\n",
    "savefig(f'lab6_imagens/{file_tag}_rf_study.png')\n",
    "show()\n",
    "print('Best results with depth=%d, %1.2f features and %d estimators, with accuracy=%1.2f'%(best[0], best[1], best[2], last_best))"
   ]
  }
 ],
 "metadata": {
  "interpreter": {
   "hash": "01d528e54d82f19c627b92829e58fe2dda66aab43e2dc53400a4352dda2e44f8"
  },
  "kernelspec": {
   "display_name": "Python 3.10.0 64-bit ('CD_Env': conda)",
   "language": "python",
   "name": "python3"
  },
  "language_info": {
   "codemirror_mode": {
    "name": "ipython",
    "version": 3
   },
   "file_extension": ".py",
   "mimetype": "text/x-python",
   "name": "python",
   "nbconvert_exporter": "python",
   "pygments_lexer": "ipython3",
   "version": "3.9.7"
  },
  "orig_nbformat": 4
 },
 "nbformat": 4,
 "nbformat_minor": 2
}
