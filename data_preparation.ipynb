{
 "cells": [
  {
   "cell_type": "code",
   "execution_count": 1,
   "metadata": {},
   "outputs": [],
   "source": [
    "import matplotlib as plt\n",
    "import pandas as pd\n",
    "import numpy as np"
   ]
  },
  {
   "cell_type": "markdown",
   "metadata": {},
   "source": [
    "# Missing values imputation"
   ]
  },
  {
   "cell_type": "markdown",
   "metadata": {},
   "source": [
    "### Dataset 1"
   ]
  },
  {
   "cell_type": "code",
   "execution_count": 22,
   "metadata": {},
   "outputs": [
    {
     "name": "stdout",
     "output_type": "stream",
     "text": [
      "0\n"
     ]
    }
   ],
   "source": [
    "dataset_1 = pd.read_csv('dataset_1/NYC_collisions_tabular.csv', na_values='NaN')\n",
    "new_dataset_1 = dataset_1.copy()\n",
    "\n",
    "# PERSON_AGE\n",
    "person_age = dataset_1['PERSON_AGE']\n",
    "mean_ages = int(person_age.mean())\n",
    "new_dataset_1['PERSON_AGE'].fillna(mean_ages,inplace=True)\n",
    "\n",
    "#SAFETY_EQUIPMENT\n",
    "new_dataset_1['SAFETY_EQUIPMENT'].fillna('Unknown',inplace=True)\n",
    "\n",
    "#PED_LOCATION\n",
    "new_dataset_1['PED_LOCATION'].fillna('Unknown',inplace=True)\n",
    "\n",
    "#CONTRIBUTING_FACTOR2\n",
    "new_dataset_1['CONTRIBUTING_FACTOR2'].fillna('Unspecified',inplace=True)\n",
    "\n",
    "\n",
    "\n",
    "\n"
   ]
  },
  {
   "cell_type": "markdown",
   "metadata": {},
   "source": [
    "### Dataset 2"
   ]
  },
  {
   "cell_type": "code",
   "execution_count": null,
   "metadata": {},
   "outputs": [],
   "source": []
  }
 ],
 "metadata": {
  "interpreter": {
   "hash": "745d310d6c0ae55e49257fa2b34a349fe5a18b8d8dfaac89e4989c686accf5f0"
  },
  "kernelspec": {
   "display_name": "Python 3.10.0 64-bit ('envComputerScience': conda)",
   "language": "python",
   "name": "python3"
  },
  "language_info": {
   "codemirror_mode": {
    "name": "ipython",
    "version": 3
   },
   "file_extension": ".py",
   "mimetype": "text/x-python",
   "name": "python",
   "nbconvert_exporter": "python",
   "pygments_lexer": "ipython3",
   "version": "3.10.0"
  },
  "orig_nbformat": 4
 },
 "nbformat": 4,
 "nbformat_minor": 2
}
