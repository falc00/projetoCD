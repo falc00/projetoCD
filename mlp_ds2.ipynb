{
 "cells": [
  {
   "cell_type": "markdown",
   "metadata": {},
   "source": [
    "## Multy Layer Perceptron"
   ]
  },
  {
   "cell_type": "code",
   "execution_count": null,
   "metadata": {},
   "outputs": [],
   "source": [
    "# imports\n",
    "from numpy import ndarray\n",
    "from pandas import DataFrame, read_csv, unique\n",
    "from matplotlib.pyplot import figure, subplots, savefig, show\n",
    "from sklearn.neural_network import MLPClassifier\n",
    "from libs.ds_charts import plot_evaluation_results, multiple_line_chart, horizontal_bar_chart, HEIGHT\n",
    "from sklearn.metrics import accuracy_score"
   ]
  },
  {
   "cell_type": "code",
   "execution_count": null,
   "metadata": {},
   "outputs": [],
   "source": [
    "### FILES\n",
    "file_tag_zscore = 'air_quality_scaled_zscore'\n",
    "filename_zscore = 'data/air_quality_scaled_zscore'\n",
    "\n",
    "file_tag_minmax = 'air_quality_scaled_minmax'\n",
    "filename_minmax = 'data/air_quality_scaled_minmax'\n",
    "\n",
    "target = 'ALARM'"
   ]
  },
  {
   "cell_type": "code",
   "execution_count": null,
   "metadata": {},
   "outputs": [],
   "source": [
    "# ja separamos anteriormente entre train e test!\n",
    "\n",
    "train: DataFrame = read_csv(f'{filename_zscore}_train_smote.csv')\n",
    "trnY: ndarray = train.pop(target).values\n",
    "trnX: ndarray = train.values\n",
    "labels = unique(trnY)\n",
    "labels.sort()\n",
    "\n",
    "test: DataFrame = read_csv(f'{filename_zscore}_test.csv')\n",
    "tstY: ndarray = test.pop(target).values\n",
    "tstX: ndarray = test.values\n",
    "\n",
    "lr_type = ['constant', 'invscaling', 'adaptive']\n",
    "max_iter = [100, 300, 500, 750, 1000, 2500, 5000]\n",
    "learning_rate = [.1, .5, .9]\n",
    "best = ('', 0, 0)\n",
    "last_best = 0\n",
    "best_model = None\n",
    "\n",
    "cols = len(lr_type)\n",
    "figure()\n",
    "fig, axs = subplots(1, cols, figsize=(cols*HEIGHT, HEIGHT), squeeze=False)\n",
    "for k in range(len(lr_type)):\n",
    "    d = lr_type[k]\n",
    "    values = {}\n",
    "    for lr in learning_rate:\n",
    "        yvalues = []\n",
    "        for n in max_iter:\n",
    "            mlp = MLPClassifier(activation='logistic', solver='sgd', learning_rate=d,\n",
    "                                learning_rate_init=lr, max_iter=n, verbose=False)\n",
    "            mlp.fit(trnX, trnY)\n",
    "            prdY = mlp.predict(tstX)\n",
    "            yvalues.append(accuracy_score(tstY, prdY))\n",
    "            if yvalues[-1] > last_best:\n",
    "                best = (d, lr, n)\n",
    "                last_best = yvalues[-1]\n",
    "                best_model = mlp\n",
    "        values[lr] = yvalues\n",
    "    multiple_line_chart(max_iter, values, ax=axs[0, k], title=f'MLP with lr_type={d}',\n",
    "                           xlabel='mx iter', ylabel='accuracy', percentage=True)\n",
    "savefig(f'lab7_images/dataset2/{filetag_zscore}_smote_mlp_study.png')\n",
    "show()\n",
    "print(f'Best results with lr_type={best[0]}, learning rate={best[1]} and {best[2]} max iter, with accuracy={last_best}')"
   ]
  },
  {
   "cell_type": "code",
   "execution_count": null,
   "metadata": {},
   "outputs": [],
   "source": [
    "prd_trn = best_model.predict(trnX)\n",
    "prd_tst = best_model.predict(tstX)\n",
    "plot_evaluation_results(labels, trnY, prd_trn, tstY, prd_tst)\n",
    "savefig(f'lab7_images/dataset2/{file_tag_zscore}_smote_mlp_best.png')\n",
    "show()"
   ]
  },
  {
   "cell_type": "code",
   "execution_count": null,
   "metadata": {},
   "outputs": [],
   "source": [
    "from libs.ds_charts import plot_overfitting_study\n",
    "\n",
    "lr_type = 'adaptive'\n",
    "lr = 0.9\n",
    "eval_metric = accuracy_score\n",
    "y_tst_values = []\n",
    "y_trn_values = []\n",
    "for n in max_iter:\n",
    "    mlp = MLPClassifier(activation='logistic', solver='sgd', learning_rate=lr_type, learning_rate_init=lr, max_iter=n, verbose=False)\n",
    "    mlp.fit(trnX, trnY)\n",
    "    prd_tst_Y = mlp.predict(tstX)\n",
    "    prd_trn_Y = mlp.predict(trnX)\n",
    "    y_tst_values.append(eval_metric(tstY, prd_tst_Y))\n",
    "    y_trn_values.append(eval_metric(trnY, prd_trn_Y))\n",
    "plot_overfitting_study(max_iter, y_trn_values, y_tst_values, name=f'NN_lr_type={lr_type}_lr={lr}', xlabel='nr episodes', ylabel=str(eval_metric))"
   ]
  }
 ],
 "metadata": {
  "interpreter": {
   "hash": "7bfba536f18f719027d1e498a36a41494bacfaac4c1c327d9ce9ee19ec35a823"
  },
  "kernelspec": {
   "display_name": "Python 3.8.12 64-bit ('IST_DL21_Env': conda)",
   "language": "python",
   "name": "python3"
  },
  "language_info": {
   "name": "python",
   "version": "3.8.12"
  },
  "orig_nbformat": 4
 },
 "nbformat": 4,
 "nbformat_minor": 2
}
