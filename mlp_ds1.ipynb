{
 "cells": [
  {
   "cell_type": "markdown",
   "metadata": {},
   "source": [
    "## Multy Layer Perceptron"
   ]
  },
  {
   "cell_type": "code",
   "execution_count": 1,
   "metadata": {},
   "outputs": [
    {
     "ename": "ModuleNotFoundError",
     "evalue": "No module named 'ds_charts'",
     "output_type": "error",
     "traceback": [
      "\u001b[0;31m---------------------------------------------------------------------------\u001b[0m",
      "\u001b[0;31mModuleNotFoundError\u001b[0m                       Traceback (most recent call last)",
      "\u001b[0;32m/var/folders/fd/7vyffy191_l3j6fhyqbvsn0r0000gn/T/ipykernel_4604/1055259504.py\u001b[0m in \u001b[0;36m<module>\u001b[0;34m\u001b[0m\n\u001b[1;32m      3\u001b[0m \u001b[0;32mfrom\u001b[0m \u001b[0mmatplotlib\u001b[0m\u001b[0;34m.\u001b[0m\u001b[0mpyplot\u001b[0m \u001b[0;32mimport\u001b[0m \u001b[0mfigure\u001b[0m\u001b[0;34m,\u001b[0m \u001b[0msubplots\u001b[0m\u001b[0;34m,\u001b[0m \u001b[0msavefig\u001b[0m\u001b[0;34m,\u001b[0m \u001b[0mshow\u001b[0m\u001b[0;34m\u001b[0m\u001b[0;34m\u001b[0m\u001b[0m\n\u001b[1;32m      4\u001b[0m \u001b[0;32mfrom\u001b[0m \u001b[0msklearn\u001b[0m\u001b[0;34m.\u001b[0m\u001b[0mneural_network\u001b[0m \u001b[0;32mimport\u001b[0m \u001b[0mMLPClassifier\u001b[0m\u001b[0;34m\u001b[0m\u001b[0;34m\u001b[0m\u001b[0m\n\u001b[0;32m----> 5\u001b[0;31m \u001b[0;32mfrom\u001b[0m \u001b[0mds_charts\u001b[0m \u001b[0;32mimport\u001b[0m \u001b[0mplot_evaluation_results\u001b[0m\u001b[0;34m,\u001b[0m \u001b[0mmultiple_line_chart\u001b[0m\u001b[0;34m,\u001b[0m \u001b[0mhorizontal_bar_chart\u001b[0m\u001b[0;34m,\u001b[0m \u001b[0mHEIGHT\u001b[0m\u001b[0;34m\u001b[0m\u001b[0;34m\u001b[0m\u001b[0m\n\u001b[0m\u001b[1;32m      6\u001b[0m \u001b[0;32mfrom\u001b[0m \u001b[0msklearn\u001b[0m\u001b[0;34m.\u001b[0m\u001b[0mmetrics\u001b[0m \u001b[0;32mimport\u001b[0m \u001b[0maccuracy_score\u001b[0m\u001b[0;34m\u001b[0m\u001b[0;34m\u001b[0m\u001b[0m\n",
      "\u001b[0;31mModuleNotFoundError\u001b[0m: No module named 'ds_charts'"
     ]
    }
   ],
   "source": [
    "from numpy import ndarray\n",
    "from pandas import DataFrame, read_csv, unique\n",
    "from matplotlib.pyplot import figure, subplots, savefig, show\n",
    "from sklearn.neural_network import MLPClassifier\n",
    "from libs.ds_charts import plot_evaluation_results, multiple_line_chart, horizontal_bar_chart, HEIGHT\n",
    "from sklearn.metrics import accuracy_score"
   ]
  },
  {
   "cell_type": "code",
   "execution_count": null,
   "metadata": {},
   "outputs": [],
   "source": [
    "### FILES\n",
    "file_tag_zscore = 'nyc_collisions_scaled_zscore'\n",
    "filename_zscore = 'data/nyc_collisions_scaled_zscore'\n",
    "\n",
    "file_tag_minmax = 'nyc_collisions_scaled_minmax'\n",
    "filename_minmax = 'data/nyc_collisions_scaled_minmax'\n",
    "\n",
    "target = 'PERSON_INJURY'"
   ]
  },
  {
   "cell_type": "code",
   "execution_count": null,
   "metadata": {},
   "outputs": [],
   "source": [
    "# ja separamos anteriormente entre train e test!\n",
    "\n",
    "train: DataFrame = read_csv(f'{filename_zscore}_train_smote.csv')\n",
    "trnY: ndarray = train.pop(target).values\n",
    "trnX: ndarray = train.values\n",
    "labels = unique(trnY)\n",
    "labels.sort()\n",
    "\n",
    "test: DataFrame = read_csv(f'{filename_zscore}_test.csv')\n",
    "tstY: ndarray = test.pop(target).values\n",
    "tstX: ndarray = test.values\n",
    "\n",
    "lr_type = ['constant', 'invscaling', 'adaptive']\n",
    "max_iter = [100, 300, 500, 750, 1000, 2500, 5000]\n",
    "learning_rate = [.1, .5, .9]\n",
    "best = ('', 0, 0)\n",
    "last_best = 0\n",
    "best_model = None\n",
    "\n",
    "cols = len(lr_type)\n",
    "figure()\n",
    "fig, axs = subplots(1, cols, figsize=(cols*HEIGHT, HEIGHT), squeeze=False)\n",
    "for k in range(len(lr_type)):\n",
    "    d = lr_type[k]\n",
    "    values = {}\n",
    "    for lr in learning_rate:\n",
    "        yvalues = []\n",
    "        for n in max_iter:\n",
    "            mlp = MLPClassifier(activation='logistic', solver='sgd', learning_rate=d,\n",
    "                                learning_rate_init=lr, max_iter=n, verbose=False)\n",
    "            mlp.fit(trnX, trnY)\n",
    "            prdY = mlp.predict(tstX)\n",
    "            yvalues.append(accuracy_score(tstY, prdY))\n",
    "            if yvalues[-1] > last_best:\n",
    "                best = (d, lr, n)\n",
    "                last_best = yvalues[-1]\n",
    "                best_model = mlp\n",
    "        values[lr] = yvalues\n",
    "    multiple_line_chart(max_iter, values, ax=axs[0, k], title=f'MLP with lr_type={d}',\n",
    "                           xlabel='mx iter', ylabel='accuracy', percentage=True)\n",
    "savefig(f'lab7_images/{filename_zscore}_mlp_study.png')\n",
    "show()\n",
    "print(f'Best results with lr_type={best[0]}, learning rate={best[1]} and {best[2]} max iter, with accuracy={last_best}')"
   ]
  }
 ],
 "metadata": {
  "interpreter": {
   "hash": "7bfba536f18f719027d1e498a36a41494bacfaac4c1c327d9ce9ee19ec35a823"
  },
  "kernelspec": {
   "display_name": "Python 3.8.12 64-bit ('IST_DL21_Env': conda)",
   "language": "python",
   "name": "python3"
  },
  "language_info": {
   "codemirror_mode": {
    "name": "ipython",
    "version": 3
   },
   "file_extension": ".py",
   "mimetype": "text/x-python",
   "name": "python",
   "nbconvert_exporter": "python",
   "pygments_lexer": "ipython3",
   "version": "3.8.12"
  },
  "orig_nbformat": 4
 },
 "nbformat": 4,
 "nbformat_minor": 2
}
